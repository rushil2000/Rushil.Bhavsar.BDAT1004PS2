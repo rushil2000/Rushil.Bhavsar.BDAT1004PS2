{
 "cells": [
  {
   "cell_type": "markdown",
   "id": "10799b95",
   "metadata": {},
   "source": [
    "# Question 1"
   ]
  },
  {
   "cell_type": "markdown",
   "id": "ad5b94d3",
   "metadata": {},
   "source": [
    "## What value is displayed when the last expression (a) is evaluated? Explain your answer by indicating what happens in every executed statement"
   ]
  },
  {
   "cell_type": "code",
   "execution_count": 1,
   "id": "dbf1c1d8",
   "metadata": {},
   "outputs": [
    {
     "data": {
      "text/plain": [
       "6"
      ]
     },
     "execution_count": 1,
     "metadata": {},
     "output_type": "execute_result"
    }
   ],
   "source": [
    "b = 0\n",
    "\n",
    "def r():\n",
    "    \n",
    "    global b\n",
    "    \n",
    "    b = d(b)\n",
    "    \n",
    "def d(b):\n",
    "    \n",
    "    return b + 2\n",
    "\n",
    "r()\n",
    "\n",
    "r()\n",
    "\n",
    "r()\n",
    "\n",
    "b"
   ]
  },
  {
   "cell_type": "code",
   "execution_count": 2,
   "id": "42cff22d",
   "metadata": {},
   "outputs": [
    {
     "ename": "SyntaxError",
     "evalue": "invalid syntax (Temp/ipykernel_27948/1346884528.py, line 1)",
     "output_type": "error",
     "traceback": [
      "\u001b[1;36m  File \u001b[1;32m\"C:\\Users\\rushi\\AppData\\Local\\Temp/ipykernel_27948/1346884528.py\"\u001b[1;36m, line \u001b[1;32m1\u001b[0m\n\u001b[1;33m    Explanation:\u001b[0m\n\u001b[1;37m                ^\u001b[0m\n\u001b[1;31mSyntaxError\u001b[0m\u001b[1;31m:\u001b[0m invalid syntax\n"
     ]
    }
   ],
   "source": [
    "Explanation:\n",
    "\n",
    "r()  # For the first time a's value will be 0 so in d(b), it will return 0+2=2 then global b's value will be 2\n",
    "r()  # For the second time a's value will be 2 so in d(b), it will return 2+2=4 then global b's value will be 4\n",
    "r()  # For the third time a's value will be 4 so in d(b), it will return 4+2=6 then global b's value will be 6\n",
    "b=6  # Here global namespace a is being referred, so value is 6.\n",
    "# Thus, everytime r() is getting executed, global b is getting changed,so b's value will be 6."
   ]
  },
  {
   "cell_type": "markdown",
   "id": "bab9c600",
   "metadata": {},
   "source": [
    "# Question 2\n",
    "\n",
    "## Function fileLength(), given to you, takes the name of a file as input and returns the length of the file:"
   ]
  },
  {
   "cell_type": "code",
   "execution_count": 9,
   "id": "e326c41e",
   "metadata": {},
   "outputs": [
    {
     "name": "stdout",
     "output_type": "stream",
     "text": [
      "123\n",
      "File Filelengt.txt not found.\n"
     ]
    }
   ],
   "source": [
    "\n",
    "def fileLen(fileName):\n",
    "    \n",
    "    try:\n",
    "        \n",
    "        infile=open(fileName)\n",
    "        \n",
    "        data=infile.read()\n",
    "        \n",
    "        ln=len(data)\n",
    "        \n",
    "        infile.close()\n",
    "        \n",
    "        print(ln)\n",
    "        \n",
    "    except IOError:\n",
    "        \n",
    "        print('File ' + fileName + ' not found.')  \n",
    "                                                   \n",
    "        \n",
    "fileLen('Filelength(1).txt')\n",
    "\n",
    "fileLen('Filelengt.txt')     \n"
   ]
  },
  {
   "cell_type": "markdown",
   "id": "5c86e673",
   "metadata": {},
   "source": [
    "# Question 3\n",
    "\n",
    "## Now write a class named Kangaroo as a subclass of Marsupial that inherits all the attributes of Marsupial and also: a. extends the Marsupial init constructor to take, as input, the coordinates x and y of the Kangaroo object, b. supports method jump that takes number values dx and dy as input and moves the kangaroo by dx units along the x-axis and by dy units along the yaxis, and c. overloads the str operator so it behaves as shown below."
   ]
  },
  {
   "cell_type": "code",
   "execution_count": 10,
   "id": "02fdfb05",
   "metadata": {},
   "outputs": [
    {
     "name": "stdout",
     "output_type": "stream",
     "text": [
      "I am a Kangaroo located at co-ordinates (0,0)\n",
      "['ball', 'gloves', 'bat']\n",
      "I am a Kangaroo located at co-ordinates (3,0)\n"
     ]
    }
   ],
   "source": [
    "class Marsupial:\n",
    "    \n",
    "    def __init__(self):\n",
    "        \n",
    "        self.Lst = []\n",
    "        \n",
    "    def put_in_pocket(self,item):\n",
    "        \n",
    "        self.Lst.append(item)\n",
    "        \n",
    "    def pocket_contents(self):\n",
    "         \n",
    "        return self.Lst\n",
    "\n",
    "class Kangaroo(Marsupial):\n",
    "    \n",
    "    def __init__(self,x,y):\n",
    "        \n",
    "        Marsupial.__init__(self)\n",
    "        \n",
    "        self.x = x\n",
    "        \n",
    "        self.y = y\n",
    "        \n",
    "    def jump(self,dx,dy):\n",
    "        \n",
    "        self.x += dx\n",
    "        \n",
    "        self.y += dy\n",
    "        \n",
    "    def __str__(self):\n",
    "        \n",
    "        return 'I am a Kangaroo located at co-ordinates ({},{})'.format(self.x,self.y)\n",
    "    \n",
    "    \n",
    "r = Marsupial()\n",
    "\n",
    "r.put_in_pocket('ball')\n",
    "\n",
    "r.put_in_pocket('gloves')\n",
    "\n",
    "r.put_in_pocket('bat')\n",
    "\n",
    "r.pocket_contents()\n",
    "\n",
    "k = Kangaroo(0,0)\n",
    "\n",
    "print(k)\n",
    "\n",
    "k.put_in_pocket('ball')\n",
    "\n",
    "k.put_in_pocket('gloves')\n",
    "\n",
    "k.put_in_pocket('bat')\n",
    "\n",
    "a=k.pocket_contents()\n",
    "\n",
    "print(a)\n",
    "\n",
    "k.jump(1,0)\n",
    "\n",
    "k.jump(1,0)\n",
    "\n",
    "k.jump(1,0)\n",
    "\n",
    "print(k)"
   ]
  },
  {
   "cell_type": "markdown",
   "id": "371f41d7",
   "metadata": {},
   "source": [
    "# Question 4 \n",
    "## Write function collatz() that takes a positive integer x as input and prints the Collatz sequence starting at x"
   ]
  },
  {
   "cell_type": "code",
   "execution_count": 11,
   "id": "30446c3c",
   "metadata": {},
   "outputs": [
    {
     "name": "stdout",
     "output_type": "stream",
     "text": [
      "collatz(1)\n",
      "1\n",
      "\n",
      "collatz(10)\n",
      "10\n",
      "5\n",
      "16\n",
      "8\n",
      "4\n",
      "2\n",
      "1\n"
     ]
    }
   ],
   "source": [
    "def collatz(x):\n",
    "    \n",
    "    if x == 1:\n",
    "        \n",
    "        return [x]\n",
    "    \n",
    "    elif x%2==0:\n",
    "        \n",
    "        return [x] + collatz(int(x/2))\n",
    "    \n",
    "    else:\n",
    "        \n",
    "        return [x] + collatz(int(x*3+1))\n",
    "\n",
    "r=collatz(1)\n",
    "\n",
    "a=collatz(10)\n",
    "\n",
    "print(\"collatz(1)\")\n",
    "\n",
    "print(*r,sep = \"\\n\")\n",
    "\n",
    "print(\"\\ncollatz(10)\")\n",
    "\n",
    "print(*a, sep = \"\\n\")"
   ]
  },
  {
   "cell_type": "markdown",
   "id": "dce1529d",
   "metadata": {},
   "source": [
    "# Question 5\n",
    "## Write a recursive method binary() that takes a non-negative integer n and prints the binary representation of integer n"
   ]
  },
  {
   "cell_type": "code",
   "execution_count": 12,
   "id": "f6660a8b",
   "metadata": {},
   "outputs": [
    {
     "name": "stdout",
     "output_type": "stream",
     "text": [
      "Enter your Number: 56\n",
      "111000"
     ]
    }
   ],
   "source": [
    "def binary(n):\n",
    "    \n",
    "    if n == 0:\n",
    "        \n",
    "        return 0\n",
    "    \n",
    "    else:\n",
    "        \n",
    "        binary(n//2)\n",
    "        \n",
    "    print(n % 2,end = '')\n",
    "\n",
    "Num = int(input(\"Enter your Number: \"))\n",
    "\n",
    "binary(Num)\n"
   ]
  },
  {
   "cell_type": "markdown",
   "id": "3a75baa7",
   "metadata": {},
   "source": [
    "# Question 6"
   ]
  },
  {
   "cell_type": "code",
   "execution_count": 25,
   "id": "255ac966",
   "metadata": {},
   "outputs": [],
   "source": [
    "from html.parser import HTMLParser\n",
    "\n",
    "class HeadingParser(HTMLParser):\n",
    "    \n",
    "    Headers = [\"h1\", \"h2\"]\n",
    "    \n",
    "    current = -1\n",
    "\n",
    "    def handle_starttag(self, tag, attrs):\n",
    "        \n",
    "        if tag in HeadingParser.Headers:\n",
    "            \n",
    "            HeadingParser.current = HeadingParser.Headers.index(tag)\n",
    "    \n",
    "    def handle_endtag(self, tag):\n",
    "        \n",
    "        if tag == HeadingParser.Headers[HeadingParser.current]:\n",
    "            \n",
    "            HeadingParser.current = -1\n",
    "            \n",
    "    def handle_data(self, data):\n",
    "        \n",
    "        if HeadingParser.current >= 0:\n",
    "            \n",
    "            print(\" \" * HeadingParser.current + data)"
   ]
  },
  {
   "cell_type": "code",
   "execution_count": 27,
   "id": "2f682544",
   "metadata": {},
   "outputs": [
    {
     "name": "stdout",
     "output_type": "stream",
     "text": [
      "W3C Mission\n",
      " Principles\n"
     ]
    }
   ],
   "source": [
    "infile = open(\"w3c.html\",\"r\")\n",
    "\n",
    "content = infile.read()\n",
    "\n",
    "infile.close()\n",
    "\n",
    "hp = HeadingParser()\n",
    "\n",
    "hp.feed(content)\n",
    "\n"
   ]
  },
  {
   "cell_type": "markdown",
   "id": "1a2576de",
   "metadata": {},
   "source": [
    "# Question 7"
   ]
  },
  {
   "cell_type": "code",
   "execution_count": 28,
   "id": "da5f7ad9",
   "metadata": {},
   "outputs": [
    {
     "name": "stdout",
     "output_type": "stream",
     "text": [
      " http://reed.cs.depaul.edu/lperkovic/test1.html\n",
      " http://reed.cs.depaul.edu/lperkovic/test2.html\n",
      "  http://reed.cs.depaul.edu/lperkovic/test2.html\n"
     ]
    }
   ],
   "source": [
    "from urllib.request import urlopen\n",
    "\n",
    "from urllib.parse import urljoin\n",
    "\n",
    "from html.parser import HTMLParser\n",
    "\n",
    "class Collector(HTMLParser):\n",
    "\n",
    "    def __init__(self, url):\n",
    "        \n",
    "      \n",
    "        HTMLParser.__init__(self)\n",
    "        \n",
    "        self.url = url\n",
    "        \n",
    "        self.links = []\n",
    "\n",
    "\n",
    "    def handle_starttag(self, tag, attrs):\n",
    "        \n",
    "        if tag == 'a':\n",
    "            \n",
    "            for attr in attrs:\n",
    "                \n",
    "                if attr[0] == 'href':\n",
    "                    \n",
    "                    absolute = urljoin(self.url, attr[1])\n",
    "                    \n",
    "                    if absolute[:4] == 'http':\n",
    "                        \n",
    "                        self.links.append(absolute)\n",
    "\n",
    "    def getLinks(self):\n",
    "        \n",
    "        return self.links\n",
    "\n",
    "\n",
    "allLinks = []\n",
    "    \n",
    "def webdir(url,depth,indent):\n",
    "    \n",
    "        global allLinks\n",
    "        \n",
    "        print(indent*\" \" + url)\n",
    "        \n",
    "        if depth == 0:\n",
    "            \n",
    "            return\n",
    "        \n",
    "        for i in allLinks:\n",
    "            \n",
    "            webdir(i, depth-1, indent+1)    \n",
    "\n",
    "\n",
    "url = ' http://reed.cs.depaul.edu/lperkovic/test1.html'\n",
    "\n",
    "resource = urlopen(url)\n",
    "\n",
    "content = resource.read().decode()\n",
    "\n",
    "collector = Collector(url)\n",
    "\n",
    "collector.feed(content)\n",
    "\n",
    "allLinks = collector.getLinks()\n",
    "\n",
    "\n",
    "webdir(url,2,0)  "
   ]
  },
  {
   "cell_type": "code",
   "execution_count": null,
   "id": "54990652",
   "metadata": {},
   "outputs": [],
   "source": []
  },
  {
   "cell_type": "markdown",
   "id": "606ab211",
   "metadata": {},
   "source": [
    "# Connecting to DB, Creating Table and Entering values into it.\n"
   ]
  },
  {
   "cell_type": "code",
   "execution_count": 2,
   "id": "f2ea6e8d",
   "metadata": {},
   "outputs": [
    {
     "ename": "OperationalError",
     "evalue": "table Weather already exists",
     "output_type": "error",
     "traceback": [
      "\u001b[1;31m---------------------------------------------------------------------------\u001b[0m",
      "\u001b[1;31mOperationalError\u001b[0m                          Traceback (most recent call last)",
      "\u001b[1;32m~\\AppData\\Local\\Temp/ipykernel_6880/3984689137.py\u001b[0m in \u001b[0;36m<module>\u001b[1;34m\u001b[0m\n\u001b[0;32m      5\u001b[0m \u001b[0mrus\u001b[0m \u001b[1;33m=\u001b[0m \u001b[0mcon\u001b[0m\u001b[1;33m.\u001b[0m\u001b[0mcursor\u001b[0m\u001b[1;33m(\u001b[0m\u001b[1;33m)\u001b[0m\u001b[1;33m\u001b[0m\u001b[1;33m\u001b[0m\u001b[0m\n\u001b[0;32m      6\u001b[0m \u001b[1;33m\u001b[0m\u001b[0m\n\u001b[1;32m----> 7\u001b[1;33m \u001b[0mrus\u001b[0m\u001b[1;33m.\u001b[0m\u001b[0mexecute\u001b[0m\u001b[1;33m(\u001b[0m\u001b[1;34m\"CREATE TABLE Weather (City text, Country text, Season text,Temperature float,Rainfall float)\"\u001b[0m\u001b[1;33m)\u001b[0m\u001b[1;33m\u001b[0m\u001b[1;33m\u001b[0m\u001b[0m\n\u001b[0m",
      "\u001b[1;31mOperationalError\u001b[0m: table Weather already exists"
     ]
    }
   ],
   "source": [
    "import sqlite3\n",
    "\n",
    "con = sqlite3.connect('ipydb.db')\n",
    "\n",
    "rus = con.cursor()\n",
    "\n",
    "rus.execute(\"CREATE TABLE Weather (City text, Country text, Season text,Temperature float,Rainfall float)\")\n"
   ]
  },
  {
   "cell_type": "code",
   "execution_count": 4,
   "id": "c005b6d5",
   "metadata": {},
   "outputs": [
    {
     "data": {
      "text/plain": [
       "<sqlite3.Cursor at 0x1a5b1de5f10>"
      ]
     },
     "execution_count": 4,
     "metadata": {},
     "output_type": "execute_result"
    }
   ],
   "source": [
    "rus.execute(\"INSERT INTO Weather VALUES ('Mumbai', 'India', 'Winter',24.8,5.9)\")"
   ]
  },
  {
   "cell_type": "code",
   "execution_count": 5,
   "id": "0dd13780",
   "metadata": {},
   "outputs": [
    {
     "data": {
      "text/plain": [
       "<sqlite3.Cursor at 0x1a5b1de5f10>"
      ]
     },
     "execution_count": 5,
     "metadata": {},
     "output_type": "execute_result"
    }
   ],
   "source": [
    "rus.execute(\"INSERT INTO Weather VALUES ('Mumbai', 'India', 'Spring',28.4,16.2)\")\n",
    "\n",
    "rus.execute(\"INSERT INTO Weather VALUES ('Bangalore', 'India', 'Summer',27.9,1549.4 )\")\n",
    "\n",
    "rus.execute(\"INSERT INTO Weather VALUES ('Delhi', 'India', 'Fall',27.6,346.0)\")\n",
    "\n",
    "rus.execute(\"INSERT INTO Weather VALUES ('London', 'United Kingdom', 'Winter',4.2,207.7 )\")\n",
    "\n",
    "rus.execute(\"INSERT INTO Weather VALUES ('Bristol', 'United Kingdom', 'Spring',8.3,169.6)\")\n",
    "\n",
    "rus.execute(\"INSERT INTO Weather VALUES ('Manchaster', 'United Kingdom', 'Summer',15.7,157.0)\")\n",
    "\n",
    "rus.execute(\"INSERT INTO Weather VALUES ('Bath', 'United Kingdom', 'Fall',10.4,218.5)\")\n",
    "\n",
    "rus.execute(\"INSERT INTO Weather VALUES ('New York', 'USA', 'Winter',13.6,16.5)\")\n",
    "\n",
    "rus.execute(\"INSERT INTO Weather VALUES ('New Jersey', 'USA', 'Spring',20.7,6.5)\")\n",
    "\n",
    "rus.execute(\"INSERT INTO Weather VALUES ('Georgia', 'USA', 'Summer',27.7,0.1)\")\n",
    "\n",
    "rus.execute(\"INSERT INTO Weather VALUES ('Buffalo', 'USA', 'Fall',22.2,4.5)\")\n"
   ]
  },
  {
   "cell_type": "code",
   "execution_count": 6,
   "id": "d4db7fc4",
   "metadata": {},
   "outputs": [
    {
     "data": {
      "text/plain": [
       "[('Mumbai', 'India', 'Winter', 24.8, 5.9),\n",
       " ('Mumbai', 'India', 'Spring', 28.4, 16.2),\n",
       " ('Bangalore', 'India', 'Summer', 27.9, 1549.4),\n",
       " ('Delhi', 'India', 'Fall', 27.6, 346.0),\n",
       " ('London', 'United Kingdom', 'Winter', 4.2, 207.7),\n",
       " ('Bristol', 'United Kingdom', 'Spring', 8.3, 169.6),\n",
       " ('Manchaster', 'United Kingdom', 'Summer', 15.7, 157.0),\n",
       " ('Bath', 'United Kingdom', 'Fall', 10.4, 218.5),\n",
       " ('New York', 'USA', 'Winter', 13.6, 16.5),\n",
       " ('New Jersey', 'USA', 'Spring', 20.7, 6.5),\n",
       " ('Georgia', 'USA', 'Summer', 27.7, 0.1),\n",
       " ('Buffalo', 'USA', 'Fall', 22.2, 4.5)]"
      ]
     },
     "execution_count": 6,
     "metadata": {},
     "output_type": "execute_result"
    }
   ],
   "source": [
    "rus.execute('SELECT * FROM Weather')\n",
    "\n",
    "rus.fetchall()\n"
   ]
  },
  {
   "cell_type": "markdown",
   "id": "cebdd7d4",
   "metadata": {},
   "source": [
    "# Question 8\n",
    "## Write SQL queries on the below database table that return:a) All the temperature data."
   ]
  },
  {
   "cell_type": "code",
   "execution_count": 7,
   "id": "1c0d962c",
   "metadata": {},
   "outputs": [
    {
     "name": "stdout",
     "output_type": "stream",
     "text": [
      "(24.8,)\n",
      "(28.4,)\n",
      "(27.9,)\n",
      "(27.6,)\n",
      "(4.2,)\n",
      "(8.3,)\n",
      "(15.7,)\n",
      "(10.4,)\n",
      "(13.6,)\n",
      "(20.7,)\n",
      "(27.7,)\n",
      "(22.2,)\n"
     ]
    }
   ],
   "source": [
    "rus.execute('SELECT temperature FROM Weather')\n",
    "\n",
    "R=rus.fetchall()\n",
    "\n",
    "for item in R:\n",
    "    \n",
    "    print(item)"
   ]
  },
  {
   "cell_type": "markdown",
   "id": "cbad4d5e",
   "metadata": {},
   "source": [
    "# b) All the cities, but without repetition.\n"
   ]
  },
  {
   "cell_type": "code",
   "execution_count": 8,
   "id": "0b6db729",
   "metadata": {},
   "outputs": [
    {
     "name": "stdout",
     "output_type": "stream",
     "text": [
      "('Mumbai',)\n",
      "('Bangalore',)\n",
      "('Delhi',)\n",
      "('London',)\n",
      "('Bristol',)\n",
      "('Manchaster',)\n",
      "('Bath',)\n",
      "('New York',)\n",
      "('New Jersey',)\n",
      "('Georgia',)\n",
      "('Buffalo',)\n"
     ]
    }
   ],
   "source": [
    "rus.execute('SELECT DISTINCT City FROM Weather')\n",
    "\n",
    "B=rus.fetchall()\n",
    "\n",
    "for item in B:\n",
    "    \n",
    "    print(item)"
   ]
  },
  {
   "cell_type": "markdown",
   "id": "46ab2b24",
   "metadata": {},
   "source": [
    "# c) All the records for India."
   ]
  },
  {
   "cell_type": "code",
   "execution_count": 4,
   "id": "82009942",
   "metadata": {},
   "outputs": [],
   "source": [
    "rus.execute(\"SELECT * FROM Weather WHERE Country='India'\")\n",
    "\n",
    "C=rus.fetchall()\n",
    "\n",
    "for item in C:\n",
    "    \n",
    "    print(item)\n"
   ]
  },
  {
   "cell_type": "markdown",
   "id": "7ed16709",
   "metadata": {},
   "source": [
    "# d) All the Fall records."
   ]
  },
  {
   "cell_type": "code",
   "execution_count": 14,
   "id": "003df681",
   "metadata": {},
   "outputs": [
    {
     "name": "stdout",
     "output_type": "stream",
     "text": [
      "('Delhi', 'India', 'Fall', 27.6, 346.0)\n",
      "('Bath', 'United Kingdom', 'Fall', 10.4, 218.5)\n",
      "('Buffalo', 'USA', 'Fall', 22.2, 4.5)\n"
     ]
    }
   ],
   "source": [
    "rus.execute(\"SELECT * FROM Weather WHERE Season='Fall'\")\n",
    "\n",
    "D=rus.fetchall()\n",
    "\n",
    "for item in D:\n",
    "    \n",
    "    print(item)"
   ]
  },
  {
   "cell_type": "markdown",
   "id": "a75b8fbd",
   "metadata": {},
   "source": [
    "# e) The city, country, and season for which the average rainfall is between 200 and 400 millimeters.\n"
   ]
  },
  {
   "cell_type": "code",
   "execution_count": 15,
   "id": "78ca1384",
   "metadata": {},
   "outputs": [
    {
     "name": "stdout",
     "output_type": "stream",
     "text": [
      "('Delhi', 'India', 'Fall')\n",
      "('London', 'United Kingdom', 'Winter')\n",
      "('Bath', 'United Kingdom', 'Fall')\n"
     ]
    }
   ],
   "source": [
    "rus.execute(\"SELECT City,country,Season FROM Weather WHERE Rainfall BETWEEN 200 AND 400\")\n",
    "\n",
    "E=rus.fetchall()\n",
    "\n",
    "for item in E:\n",
    "    \n",
    "    print(item)"
   ]
  },
  {
   "cell_type": "markdown",
   "id": "97fca7ea",
   "metadata": {},
   "source": [
    "# f) The city and country for which the average Fall temperature is above 20 degrees, in increasing temperature order."
   ]
  },
  {
   "cell_type": "code",
   "execution_count": 16,
   "id": "242eb4d2",
   "metadata": {},
   "outputs": [
    {
     "name": "stdout",
     "output_type": "stream",
     "text": [
      "('Buffalo', 'USA')\n",
      "('Delhi', 'India')\n"
     ]
    }
   ],
   "source": [
    "rus.execute(\"SELECT City,country FROM Weather WHERE Season='Fall' AND temperature > 20 ORDER BY temperature ASC\")\n",
    "\n",
    "F=rus.fetchall()\n",
    "\n",
    "for item in F:\n",
    "    \n",
    "    print(item)"
   ]
  },
  {
   "cell_type": "markdown",
   "id": "c8057895",
   "metadata": {},
   "source": [
    "# g) The total annual rainfall for Cairo\n"
   ]
  },
  {
   "cell_type": "code",
   "execution_count": 17,
   "id": "39718586",
   "metadata": {},
   "outputs": [
    {
     "name": "stdout",
     "output_type": "stream",
     "text": [
      "(None,)\n"
     ]
    }
   ],
   "source": [
    "rus.execute(\"SELECT SUM(Rainfall) FROM cityWeather WHERE City='Cairo'\")\n",
    "\n",
    "G=rus.fetchall()\n",
    "\n",
    "for item in G:\n",
    "    \n",
    "    print(item)"
   ]
  },
  {
   "cell_type": "markdown",
   "id": "b78974fa",
   "metadata": {},
   "source": [
    "# h) The total rainfall for each season."
   ]
  },
  {
   "cell_type": "code",
   "execution_count": 24,
   "id": "88982e80",
   "metadata": {},
   "outputs": [
    {
     "name": "stdout",
     "output_type": "stream",
     "text": [
      "(569.0,)\n",
      "(192.29999999999998,)\n",
      "(1706.5,)\n",
      "(230.1,)\n"
     ]
    }
   ],
   "source": [
    "rus.execute(\"SELECT SUM(Rainfall) FROM Weather GROUP BY Season\")\n",
    "\n",
    "H=rus.fetchall()\n",
    "\n",
    "for item in H:\n",
    "    \n",
    "    print(item)"
   ]
  },
  {
   "cell_type": "markdown",
   "id": "e58c4fcf",
   "metadata": {},
   "source": [
    "# Question 9 \n",
    "## Suppose list words is defined as follows: words = ['The', 'quick', 'brown', 'fox', 'jumps', 'over', 'the', 'lazy', 'dog'] Write list comprehension expressions that use list words and generate the following lists:"
   ]
  },
  {
   "cell_type": "code",
   "execution_count": 18,
   "id": "70ecaa58",
   "metadata": {},
   "outputs": [],
   "source": [
    "words = ['The', 'quick', 'brown', 'fox', 'jumps', 'over','the', 'lazy', 'dog']"
   ]
  },
  {
   "cell_type": "markdown",
   "id": "df6d5619",
   "metadata": {},
   "source": [
    "### A"
   ]
  },
  {
   "cell_type": "code",
   "execution_count": 19,
   "id": "caca6bb5",
   "metadata": {},
   "outputs": [
    {
     "name": "stdout",
     "output_type": "stream",
     "text": [
      "['THE', 'QUICK', 'BROWN', 'FOX', 'JUMPS', 'OVER', 'THE', 'LAZY', 'DOG']\n"
     ]
    }
   ],
   "source": [
    "A = [elements.upper() for elements in words]\n",
    "\n",
    "print (A)\n"
   ]
  },
  {
   "cell_type": "markdown",
   "id": "78aa1a42",
   "metadata": {},
   "source": [
    "### B"
   ]
  },
  {
   "cell_type": "code",
   "execution_count": 20,
   "id": "7a1b833c",
   "metadata": {},
   "outputs": [
    {
     "name": "stdout",
     "output_type": "stream",
     "text": [
      "['the', 'quick', 'brown', 'fox', 'jumps', 'over', 'the', 'lazy', 'dog']\n"
     ]
    }
   ],
   "source": [
    "B = [elements.lower() for elements in words]\n",
    "\n",
    "print(B)"
   ]
  },
  {
   "cell_type": "markdown",
   "id": "55232db1",
   "metadata": {},
   "source": [
    "### C"
   ]
  },
  {
   "cell_type": "code",
   "execution_count": 21,
   "id": "7821aaad",
   "metadata": {},
   "outputs": [
    {
     "name": "stdout",
     "output_type": "stream",
     "text": [
      "[3, 5, 5, 3, 5, 4, 3, 4, 3]\n"
     ]
    }
   ],
   "source": [
    "C = [len(elements) for elements in words]\n",
    "\n",
    "print(C)"
   ]
  },
  {
   "cell_type": "markdown",
   "id": "5765775f",
   "metadata": {},
   "source": [
    "### D"
   ]
  },
  {
   "cell_type": "code",
   "execution_count": 22,
   "id": "bd14f4af",
   "metadata": {},
   "outputs": [
    {
     "name": "stdout",
     "output_type": "stream",
     "text": [
      "[['THE', 'the', 3], ['QUICK', 'quick', 5], ['BROWN', 'brown', 5], ['FOX', 'fox', 3], ['JUMPS', 'jumps', 5], ['OVER', 'over', 4], ['THE', 'the', 3], ['LAZY', 'lazy', 4], ['DOG', 'dog', 3]]\n"
     ]
    }
   ],
   "source": [
    "D = [[elements.upper(),elements.lower(),len(elements)] for elements in words]\n",
    "\n",
    "print(D)"
   ]
  },
  {
   "cell_type": "markdown",
   "id": "1f7c66ae",
   "metadata": {},
   "source": [
    "### E"
   ]
  },
  {
   "cell_type": "code",
   "execution_count": 23,
   "id": "b7e89e01",
   "metadata": {},
   "outputs": [
    {
     "name": "stdout",
     "output_type": "stream",
     "text": [
      "['quick', 'brown', 'jumps', 'over', 'lazy']\n"
     ]
    }
   ],
   "source": [
    "E = [elements for elements in words if len(elements)>=4]\n",
    "\n",
    "print(E)"
   ]
  },
  {
   "cell_type": "code",
   "execution_count": null,
   "id": "73c92e77",
   "metadata": {},
   "outputs": [],
   "source": []
  }
 ],
 "metadata": {
  "kernelspec": {
   "display_name": "Python 3 (ipykernel)",
   "language": "python",
   "name": "python3"
  },
  "language_info": {
   "codemirror_mode": {
    "name": "ipython",
    "version": 3
   },
   "file_extension": ".py",
   "mimetype": "text/x-python",
   "name": "python",
   "nbconvert_exporter": "python",
   "pygments_lexer": "ipython3",
   "version": "3.9.7"
  }
 },
 "nbformat": 4,
 "nbformat_minor": 5
}
